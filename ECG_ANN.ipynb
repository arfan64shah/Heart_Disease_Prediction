{
 "cells": [
  {
   "cell_type": "code",
   "execution_count": 58,
   "id": "9471dd76-6299-4b72-b364-68e3826a737b",
   "metadata": {},
   "outputs": [],
   "source": [
    "# import required libraries\n",
    "import numpy as np\n",
    "import pandas as pd\n",
    "import tensorflow\n",
    "from tensorflow import keras\n",
    "from keras import Sequential\n",
    "from keras.layers import Dense\n",
    "import plotly.graph_objects as go\n",
    "from sklearn.model_selection import train_test_split\n",
    "from sklearn.preprocessing import StandardScaler\n",
    "import pickle\n",
    "from sklearn.metrics import accuracy_score\n",
    "from skimage import io\n",
    "import math"
   ]
  },
  {
   "cell_type": "code",
   "execution_count": 2,
   "id": "2a215caa-72cd-4dd1-8ce4-9525d4fde229",
   "metadata": {},
   "outputs": [
    {
     "data": {
      "text/html": [
       "<div>\n",
       "<style scoped>\n",
       "    .dataframe tbody tr th:only-of-type {\n",
       "        vertical-align: middle;\n",
       "    }\n",
       "\n",
       "    .dataframe tbody tr th {\n",
       "        vertical-align: top;\n",
       "    }\n",
       "\n",
       "    .dataframe thead th {\n",
       "        text-align: right;\n",
       "    }\n",
       "</style>\n",
       "<table border=\"1\" class=\"dataframe\">\n",
       "  <thead>\n",
       "    <tr style=\"text-align: right;\">\n",
       "      <th></th>\n",
       "      <th>Red_Mean</th>\n",
       "      <th>Red_Median</th>\n",
       "      <th>Red_Var</th>\n",
       "      <th>Red_Std</th>\n",
       "      <th>Green_Mean</th>\n",
       "      <th>Green_Median</th>\n",
       "      <th>Green_Var</th>\n",
       "      <th>Green_Std</th>\n",
       "      <th>Blue_Mean</th>\n",
       "      <th>Blue_Median</th>\n",
       "      <th>Blue_Var</th>\n",
       "      <th>Blue_Std</th>\n",
       "      <th>Label</th>\n",
       "    </tr>\n",
       "  </thead>\n",
       "  <tbody>\n",
       "    <tr>\n",
       "      <th>0</th>\n",
       "      <td>241.118877</td>\n",
       "      <td>255</td>\n",
       "      <td>2456.282586</td>\n",
       "      <td>49.560898</td>\n",
       "      <td>238.801472</td>\n",
       "      <td>253</td>\n",
       "      <td>2538.909422</td>\n",
       "      <td>50.387592</td>\n",
       "      <td>238.518423</td>\n",
       "      <td>253</td>\n",
       "      <td>2528.150507</td>\n",
       "      <td>50.280717</td>\n",
       "      <td>1</td>\n",
       "    </tr>\n",
       "    <tr>\n",
       "      <th>1</th>\n",
       "      <td>243.519280</td>\n",
       "      <td>255</td>\n",
       "      <td>1907.925583</td>\n",
       "      <td>43.679807</td>\n",
       "      <td>241.190525</td>\n",
       "      <td>254</td>\n",
       "      <td>1996.078722</td>\n",
       "      <td>44.677497</td>\n",
       "      <td>240.883254</td>\n",
       "      <td>253</td>\n",
       "      <td>1985.555379</td>\n",
       "      <td>44.559571</td>\n",
       "      <td>0</td>\n",
       "    </tr>\n",
       "    <tr>\n",
       "      <th>2</th>\n",
       "      <td>243.190279</td>\n",
       "      <td>255</td>\n",
       "      <td>1985.340639</td>\n",
       "      <td>44.557161</td>\n",
       "      <td>240.862863</td>\n",
       "      <td>254</td>\n",
       "      <td>2072.190197</td>\n",
       "      <td>45.521316</td>\n",
       "      <td>240.567514</td>\n",
       "      <td>253</td>\n",
       "      <td>2062.231349</td>\n",
       "      <td>45.411797</td>\n",
       "      <td>0</td>\n",
       "    </tr>\n",
       "    <tr>\n",
       "      <th>3</th>\n",
       "      <td>243.290183</td>\n",
       "      <td>255</td>\n",
       "      <td>1961.891869</td>\n",
       "      <td>44.293249</td>\n",
       "      <td>240.958340</td>\n",
       "      <td>254</td>\n",
       "      <td>2050.420515</td>\n",
       "      <td>45.281569</td>\n",
       "      <td>240.655986</td>\n",
       "      <td>253</td>\n",
       "      <td>2039.198265</td>\n",
       "      <td>45.157483</td>\n",
       "      <td>0</td>\n",
       "    </tr>\n",
       "    <tr>\n",
       "      <th>4</th>\n",
       "      <td>244.942210</td>\n",
       "      <td>255</td>\n",
       "      <td>1663.941151</td>\n",
       "      <td>40.791435</td>\n",
       "      <td>241.237157</td>\n",
       "      <td>252</td>\n",
       "      <td>1742.343735</td>\n",
       "      <td>41.741391</td>\n",
       "      <td>243.074659</td>\n",
       "      <td>255</td>\n",
       "      <td>1740.738547</td>\n",
       "      <td>41.722159</td>\n",
       "      <td>0</td>\n",
       "    </tr>\n",
       "  </tbody>\n",
       "</table>\n",
       "</div>"
      ],
      "text/plain": [
       "     Red_Mean  Red_Median      Red_Var    Red_Std  Green_Mean  ...   Blue_Mean  Blue_Median     Blue_Var   Blue_Std  Label\n",
       "0  241.118877         255  2456.282586  49.560898  238.801472  ...  238.518423          253  2528.150507  50.280717      1\n",
       "1  243.519280         255  1907.925583  43.679807  241.190525  ...  240.883254          253  1985.555379  44.559571      0\n",
       "2  243.190279         255  1985.340639  44.557161  240.862863  ...  240.567514          253  2062.231349  45.411797      0\n",
       "3  243.290183         255  1961.891869  44.293249  240.958340  ...  240.655986          253  2039.198265  45.157483      0\n",
       "4  244.942210         255  1663.941151  40.791435  241.237157  ...  243.074659          255  1740.738547  41.722159      0\n",
       "\n",
       "[5 rows x 13 columns]"
      ]
     },
     "execution_count": 2,
     "metadata": {},
     "output_type": "execute_result"
    }
   ],
   "source": [
    "# load and read dataset\n",
    "dataset = pd.read_excel('dataset.xlsx')\n",
    "dataset.head()"
   ]
  },
  {
   "cell_type": "code",
   "execution_count": 3,
   "id": "b539534d-e5f8-4f44-a426-58d8c1147aa6",
   "metadata": {},
   "outputs": [
    {
     "data": {
      "text/plain": [
       "517"
      ]
     },
     "execution_count": 3,
     "metadata": {},
     "output_type": "execute_result"
    }
   ],
   "source": [
    "# length of dataset\n",
    "len(dataset)"
   ]
  },
  {
   "cell_type": "code",
   "execution_count": 4,
   "id": "e0b46b7a-df70-4825-accc-aa71bcf2cc9e",
   "metadata": {},
   "outputs": [
    {
     "data": {
      "text/html": [
       "<div>\n",
       "<style scoped>\n",
       "    .dataframe tbody tr th:only-of-type {\n",
       "        vertical-align: middle;\n",
       "    }\n",
       "\n",
       "    .dataframe tbody tr th {\n",
       "        vertical-align: top;\n",
       "    }\n",
       "\n",
       "    .dataframe thead th {\n",
       "        text-align: right;\n",
       "    }\n",
       "</style>\n",
       "<table border=\"1\" class=\"dataframe\">\n",
       "  <thead>\n",
       "    <tr style=\"text-align: right;\">\n",
       "      <th></th>\n",
       "      <th>Red_Mean</th>\n",
       "      <th>Red_Median</th>\n",
       "      <th>Red_Var</th>\n",
       "      <th>Red_Std</th>\n",
       "      <th>Green_Mean</th>\n",
       "      <th>Green_Median</th>\n",
       "      <th>Green_Var</th>\n",
       "      <th>Green_Std</th>\n",
       "      <th>Blue_Mean</th>\n",
       "      <th>Blue_Median</th>\n",
       "      <th>Blue_Var</th>\n",
       "      <th>Blue_Std</th>\n",
       "      <th>Label</th>\n",
       "    </tr>\n",
       "  </thead>\n",
       "  <tbody>\n",
       "    <tr>\n",
       "      <th>count</th>\n",
       "      <td>517.000000</td>\n",
       "      <td>517.0</td>\n",
       "      <td>517.000000</td>\n",
       "      <td>517.000000</td>\n",
       "      <td>517.000000</td>\n",
       "      <td>517.000000</td>\n",
       "      <td>517.000000</td>\n",
       "      <td>517.000000</td>\n",
       "      <td>517.000000</td>\n",
       "      <td>517.000000</td>\n",
       "      <td>517.000000</td>\n",
       "      <td>517.000000</td>\n",
       "      <td>517.000000</td>\n",
       "    </tr>\n",
       "    <tr>\n",
       "      <th>mean</th>\n",
       "      <td>242.789326</td>\n",
       "      <td>255.0</td>\n",
       "      <td>2085.194165</td>\n",
       "      <td>45.598539</td>\n",
       "      <td>240.292460</td>\n",
       "      <td>253.636364</td>\n",
       "      <td>2169.454268</td>\n",
       "      <td>46.516074</td>\n",
       "      <td>240.264987</td>\n",
       "      <td>253.255319</td>\n",
       "      <td>2160.333189</td>\n",
       "      <td>46.418220</td>\n",
       "      <td>0.450677</td>\n",
       "    </tr>\n",
       "    <tr>\n",
       "      <th>std</th>\n",
       "      <td>1.045446</td>\n",
       "      <td>0.0</td>\n",
       "      <td>228.950726</td>\n",
       "      <td>2.445186</td>\n",
       "      <td>0.976990</td>\n",
       "      <td>0.698332</td>\n",
       "      <td>228.079825</td>\n",
       "      <td>2.391696</td>\n",
       "      <td>1.147703</td>\n",
       "      <td>0.668067</td>\n",
       "      <td>227.196048</td>\n",
       "      <td>2.386017</td>\n",
       "      <td>0.498043</td>\n",
       "    </tr>\n",
       "    <tr>\n",
       "      <th>min</th>\n",
       "      <td>237.615951</td>\n",
       "      <td>255.0</td>\n",
       "      <td>1663.941151</td>\n",
       "      <td>40.791435</td>\n",
       "      <td>235.314631</td>\n",
       "      <td>252.000000</td>\n",
       "      <td>1742.343735</td>\n",
       "      <td>41.741391</td>\n",
       "      <td>235.065980</td>\n",
       "      <td>253.000000</td>\n",
       "      <td>1740.738547</td>\n",
       "      <td>41.722159</td>\n",
       "      <td>0.000000</td>\n",
       "    </tr>\n",
       "    <tr>\n",
       "      <th>25%</th>\n",
       "      <td>242.221739</td>\n",
       "      <td>255.0</td>\n",
       "      <td>1927.098013</td>\n",
       "      <td>43.898725</td>\n",
       "      <td>239.809942</td>\n",
       "      <td>254.000000</td>\n",
       "      <td>2012.342717</td>\n",
       "      <td>44.859143</td>\n",
       "      <td>239.620787</td>\n",
       "      <td>253.000000</td>\n",
       "      <td>2003.568630</td>\n",
       "      <td>44.761240</td>\n",
       "      <td>0.000000</td>\n",
       "    </tr>\n",
       "    <tr>\n",
       "      <th>50%</th>\n",
       "      <td>242.969552</td>\n",
       "      <td>255.0</td>\n",
       "      <td>2040.289239</td>\n",
       "      <td>45.169561</td>\n",
       "      <td>240.499195</td>\n",
       "      <td>254.000000</td>\n",
       "      <td>2125.855474</td>\n",
       "      <td>46.107000</td>\n",
       "      <td>240.380366</td>\n",
       "      <td>253.000000</td>\n",
       "      <td>2115.514412</td>\n",
       "      <td>45.994722</td>\n",
       "      <td>0.000000</td>\n",
       "    </tr>\n",
       "    <tr>\n",
       "      <th>75%</th>\n",
       "      <td>243.456685</td>\n",
       "      <td>255.0</td>\n",
       "      <td>2206.532157</td>\n",
       "      <td>46.973739</td>\n",
       "      <td>240.965034</td>\n",
       "      <td>254.000000</td>\n",
       "      <td>2291.731983</td>\n",
       "      <td>47.872038</td>\n",
       "      <td>240.886957</td>\n",
       "      <td>253.000000</td>\n",
       "      <td>2282.115288</td>\n",
       "      <td>47.771490</td>\n",
       "      <td>1.000000</td>\n",
       "    </tr>\n",
       "    <tr>\n",
       "      <th>max</th>\n",
       "      <td>244.942210</td>\n",
       "      <td>255.0</td>\n",
       "      <td>3233.498672</td>\n",
       "      <td>56.863861</td>\n",
       "      <td>241.661304</td>\n",
       "      <td>254.000000</td>\n",
       "      <td>3311.488264</td>\n",
       "      <td>57.545532</td>\n",
       "      <td>243.074659</td>\n",
       "      <td>255.000000</td>\n",
       "      <td>3299.335787</td>\n",
       "      <td>57.439845</td>\n",
       "      <td>1.000000</td>\n",
       "    </tr>\n",
       "  </tbody>\n",
       "</table>\n",
       "</div>"
      ],
      "text/plain": [
       "         Red_Mean  Red_Median      Red_Var     Red_Std  ...  Blue_Median     Blue_Var    Blue_Std       Label\n",
       "count  517.000000       517.0   517.000000  517.000000  ...   517.000000   517.000000  517.000000  517.000000\n",
       "mean   242.789326       255.0  2085.194165   45.598539  ...   253.255319  2160.333189   46.418220    0.450677\n",
       "std      1.045446         0.0   228.950726    2.445186  ...     0.668067   227.196048    2.386017    0.498043\n",
       "min    237.615951       255.0  1663.941151   40.791435  ...   253.000000  1740.738547   41.722159    0.000000\n",
       "25%    242.221739       255.0  1927.098013   43.898725  ...   253.000000  2003.568630   44.761240    0.000000\n",
       "50%    242.969552       255.0  2040.289239   45.169561  ...   253.000000  2115.514412   45.994722    0.000000\n",
       "75%    243.456685       255.0  2206.532157   46.973739  ...   253.000000  2282.115288   47.771490    1.000000\n",
       "max    244.942210       255.0  3233.498672   56.863861  ...   255.000000  3299.335787   57.439845    1.000000\n",
       "\n",
       "[8 rows x 13 columns]"
      ]
     },
     "execution_count": 4,
     "metadata": {},
     "output_type": "execute_result"
    }
   ],
   "source": [
    "# find descriptive statistics about dataset\n",
    "dataset.describe()"
   ]
  },
  {
   "cell_type": "code",
   "execution_count": 5,
   "id": "3f807a14-9815-4550-b7e3-b4a1e1a886fc",
   "metadata": {},
   "outputs": [
    {
     "name": "stdout",
     "output_type": "stream",
     "text": [
      "<class 'pandas.core.frame.DataFrame'>\n",
      "RangeIndex: 517 entries, 0 to 516\n",
      "Data columns (total 13 columns):\n",
      " #   Column        Non-Null Count  Dtype  \n",
      "---  ------        --------------  -----  \n",
      " 0   Red_Mean      517 non-null    float64\n",
      " 1   Red_Median    517 non-null    int64  \n",
      " 2   Red_Var       517 non-null    float64\n",
      " 3   Red_Std       517 non-null    float64\n",
      " 4   Green_Mean    517 non-null    float64\n",
      " 5   Green_Median  517 non-null    int64  \n",
      " 6   Green_Var     517 non-null    float64\n",
      " 7   Green_Std     517 non-null    float64\n",
      " 8   Blue_Mean     517 non-null    float64\n",
      " 9   Blue_Median   517 non-null    int64  \n",
      " 10  Blue_Var      517 non-null    float64\n",
      " 11  Blue_Std      517 non-null    float64\n",
      " 12  Label         517 non-null    int64  \n",
      "dtypes: float64(9), int64(4)\n",
      "memory usage: 52.6 KB\n"
     ]
    }
   ],
   "source": [
    "# find further information\n",
    "dataset.info()"
   ]
  },
  {
   "cell_type": "code",
   "execution_count": 6,
   "id": "79036588-91d7-4a31-a2d2-9dc1a438c8cf",
   "metadata": {},
   "outputs": [
    {
     "data": {
      "text/plain": [
       "Red_Mean       -0.691323\n",
       "Red_Median           NaN\n",
       "Red_Var         0.705923\n",
       "Red_Std         0.714861\n",
       "Green_Mean     -0.703212\n",
       "Green_Median   -0.107390\n",
       "Green_Var       0.704366\n",
       "Green_Std       0.712638\n",
       "Blue_Mean      -0.636647\n",
       "Blue_Median    -0.066920\n",
       "Blue_Var        0.706299\n",
       "Blue_Std        0.714901\n",
       "Label           1.000000\n",
       "Name: Label, dtype: float64"
      ]
     },
     "execution_count": 6,
     "metadata": {},
     "output_type": "execute_result"
    }
   ],
   "source": [
    "# find correlation of dataset with respect to Label column\n",
    "dataset.corr()['Label']"
   ]
  },
  {
   "cell_type": "code",
   "execution_count": 7,
   "id": "62e7ff4a-519f-4cec-b76a-416d3c60a202",
   "metadata": {},
   "outputs": [
    {
     "data": {
      "text/plain": [
       "0      255\n",
       "1      255\n",
       "2      255\n",
       "3      255\n",
       "4      255\n",
       "      ... \n",
       "512    255\n",
       "513    255\n",
       "514    255\n",
       "515    255\n",
       "516    255\n",
       "Name: Red_Median, Length: 517, dtype: int64"
      ]
     },
     "execution_count": 7,
     "metadata": {},
     "output_type": "execute_result"
    }
   ],
   "source": [
    "# dislay all columns\n",
    "dataset['Red_Median']"
   ]
  },
  {
   "cell_type": "code",
   "execution_count": 8,
   "id": "519bf97f-9c75-4dec-9e9b-440eda08086b",
   "metadata": {},
   "outputs": [],
   "source": [
    "# median of all channels does not have good correlation so remove them\n",
    "dataset = dataset.drop(['Red_Median', 'Green_Median', 'Blue_Median'], axis = 1)"
   ]
  },
  {
   "cell_type": "code",
   "execution_count": 9,
   "id": "10767eec-3ec0-4df7-96c4-f01a42f3ce7f",
   "metadata": {},
   "outputs": [
    {
     "data": {
      "text/html": [
       "<div>\n",
       "<style scoped>\n",
       "    .dataframe tbody tr th:only-of-type {\n",
       "        vertical-align: middle;\n",
       "    }\n",
       "\n",
       "    .dataframe tbody tr th {\n",
       "        vertical-align: top;\n",
       "    }\n",
       "\n",
       "    .dataframe thead th {\n",
       "        text-align: right;\n",
       "    }\n",
       "</style>\n",
       "<table border=\"1\" class=\"dataframe\">\n",
       "  <thead>\n",
       "    <tr style=\"text-align: right;\">\n",
       "      <th></th>\n",
       "      <th>Red_Mean</th>\n",
       "      <th>Red_Var</th>\n",
       "      <th>Red_Std</th>\n",
       "      <th>Green_Mean</th>\n",
       "      <th>Green_Var</th>\n",
       "      <th>Green_Std</th>\n",
       "      <th>Blue_Mean</th>\n",
       "      <th>Blue_Var</th>\n",
       "      <th>Blue_Std</th>\n",
       "      <th>Label</th>\n",
       "    </tr>\n",
       "  </thead>\n",
       "  <tbody>\n",
       "    <tr>\n",
       "      <th>0</th>\n",
       "      <td>241.118877</td>\n",
       "      <td>2456.282586</td>\n",
       "      <td>49.560898</td>\n",
       "      <td>238.801472</td>\n",
       "      <td>2538.909422</td>\n",
       "      <td>50.387592</td>\n",
       "      <td>238.518423</td>\n",
       "      <td>2528.150507</td>\n",
       "      <td>50.280717</td>\n",
       "      <td>1</td>\n",
       "    </tr>\n",
       "    <tr>\n",
       "      <th>1</th>\n",
       "      <td>243.519280</td>\n",
       "      <td>1907.925583</td>\n",
       "      <td>43.679807</td>\n",
       "      <td>241.190525</td>\n",
       "      <td>1996.078722</td>\n",
       "      <td>44.677497</td>\n",
       "      <td>240.883254</td>\n",
       "      <td>1985.555379</td>\n",
       "      <td>44.559571</td>\n",
       "      <td>0</td>\n",
       "    </tr>\n",
       "    <tr>\n",
       "      <th>2</th>\n",
       "      <td>243.190279</td>\n",
       "      <td>1985.340639</td>\n",
       "      <td>44.557161</td>\n",
       "      <td>240.862863</td>\n",
       "      <td>2072.190197</td>\n",
       "      <td>45.521316</td>\n",
       "      <td>240.567514</td>\n",
       "      <td>2062.231349</td>\n",
       "      <td>45.411797</td>\n",
       "      <td>0</td>\n",
       "    </tr>\n",
       "    <tr>\n",
       "      <th>3</th>\n",
       "      <td>243.290183</td>\n",
       "      <td>1961.891869</td>\n",
       "      <td>44.293249</td>\n",
       "      <td>240.958340</td>\n",
       "      <td>2050.420515</td>\n",
       "      <td>45.281569</td>\n",
       "      <td>240.655986</td>\n",
       "      <td>2039.198265</td>\n",
       "      <td>45.157483</td>\n",
       "      <td>0</td>\n",
       "    </tr>\n",
       "    <tr>\n",
       "      <th>4</th>\n",
       "      <td>244.942210</td>\n",
       "      <td>1663.941151</td>\n",
       "      <td>40.791435</td>\n",
       "      <td>241.237157</td>\n",
       "      <td>1742.343735</td>\n",
       "      <td>41.741391</td>\n",
       "      <td>243.074659</td>\n",
       "      <td>1740.738547</td>\n",
       "      <td>41.722159</td>\n",
       "      <td>0</td>\n",
       "    </tr>\n",
       "  </tbody>\n",
       "</table>\n",
       "</div>"
      ],
      "text/plain": [
       "     Red_Mean      Red_Var    Red_Std  Green_Mean    Green_Var  Green_Std   Blue_Mean     Blue_Var   Blue_Std  Label\n",
       "0  241.118877  2456.282586  49.560898  238.801472  2538.909422  50.387592  238.518423  2528.150507  50.280717      1\n",
       "1  243.519280  1907.925583  43.679807  241.190525  1996.078722  44.677497  240.883254  1985.555379  44.559571      0\n",
       "2  243.190279  1985.340639  44.557161  240.862863  2072.190197  45.521316  240.567514  2062.231349  45.411797      0\n",
       "3  243.290183  1961.891869  44.293249  240.958340  2050.420515  45.281569  240.655986  2039.198265  45.157483      0\n",
       "4  244.942210  1663.941151  40.791435  241.237157  1742.343735  41.741391  243.074659  1740.738547  41.722159      0"
      ]
     },
     "execution_count": 9,
     "metadata": {},
     "output_type": "execute_result"
    }
   ],
   "source": [
    "dataset.head()"
   ]
  },
  {
   "cell_type": "code",
   "execution_count": 10,
   "id": "2ff9efc4-cc1e-4b20-a14f-cb0ed1a9f3c3",
   "metadata": {},
   "outputs": [
    {
     "data": {
      "text/plain": [
       "Red_Mean     -0.691323\n",
       "Red_Var       0.705923\n",
       "Red_Std       0.714861\n",
       "Green_Mean   -0.703212\n",
       "Green_Var     0.704366\n",
       "Green_Std     0.712638\n",
       "Blue_Mean    -0.636647\n",
       "Blue_Var      0.706299\n",
       "Blue_Std      0.714901\n",
       "Label         1.000000\n",
       "Name: Label, dtype: float64"
      ]
     },
     "execution_count": 10,
     "metadata": {},
     "output_type": "execute_result"
    }
   ],
   "source": [
    "# now again find correlation with respect to label\n",
    "dataset.corr()['Label']"
   ]
  },
  {
   "cell_type": "code",
   "execution_count": 20,
   "id": "104b57a0-436c-45c6-b897-899380050e39",
   "metadata": {},
   "outputs": [
    {
     "data": {
      "application/vnd.plotly.v1+json": {
       "config": {
        "plotlyServerURL": "https://plot.ly"
       },
       "data": [
        {
         "legendgroup": "group",
         "marker": {
          "color": [
           "#7d3c98",
           "#1d8348"
          ]
         },
         "text": [
          "normal",
          "abnormal"
         ],
         "type": "bar",
         "width": 0.3,
         "x": [
          0,
          1
         ],
         "y": [
          284,
          233
         ]
        }
       ],
       "layout": {
        "autosize": true,
        "template": {
         "data": {
          "bar": [
           {
            "error_x": {
             "color": "#2a3f5f"
            },
            "error_y": {
             "color": "#2a3f5f"
            },
            "marker": {
             "line": {
              "color": "#E5ECF6",
              "width": 0.5
             },
             "pattern": {
              "fillmode": "overlay",
              "size": 10,
              "solidity": 0.2
             }
            },
            "type": "bar"
           }
          ],
          "barpolar": [
           {
            "marker": {
             "line": {
              "color": "#E5ECF6",
              "width": 0.5
             },
             "pattern": {
              "fillmode": "overlay",
              "size": 10,
              "solidity": 0.2
             }
            },
            "type": "barpolar"
           }
          ],
          "carpet": [
           {
            "aaxis": {
             "endlinecolor": "#2a3f5f",
             "gridcolor": "white",
             "linecolor": "white",
             "minorgridcolor": "white",
             "startlinecolor": "#2a3f5f"
            },
            "baxis": {
             "endlinecolor": "#2a3f5f",
             "gridcolor": "white",
             "linecolor": "white",
             "minorgridcolor": "white",
             "startlinecolor": "#2a3f5f"
            },
            "type": "carpet"
           }
          ],
          "choropleth": [
           {
            "colorbar": {
             "outlinewidth": 0,
             "ticks": ""
            },
            "type": "choropleth"
           }
          ],
          "contour": [
           {
            "colorbar": {
             "outlinewidth": 0,
             "ticks": ""
            },
            "colorscale": [
             [
              0,
              "#0d0887"
             ],
             [
              0.1111111111111111,
              "#46039f"
             ],
             [
              0.2222222222222222,
              "#7201a8"
             ],
             [
              0.3333333333333333,
              "#9c179e"
             ],
             [
              0.4444444444444444,
              "#bd3786"
             ],
             [
              0.5555555555555556,
              "#d8576b"
             ],
             [
              0.6666666666666666,
              "#ed7953"
             ],
             [
              0.7777777777777778,
              "#fb9f3a"
             ],
             [
              0.8888888888888888,
              "#fdca26"
             ],
             [
              1,
              "#f0f921"
             ]
            ],
            "type": "contour"
           }
          ],
          "contourcarpet": [
           {
            "colorbar": {
             "outlinewidth": 0,
             "ticks": ""
            },
            "type": "contourcarpet"
           }
          ],
          "heatmap": [
           {
            "colorbar": {
             "outlinewidth": 0,
             "ticks": ""
            },
            "colorscale": [
             [
              0,
              "#0d0887"
             ],
             [
              0.1111111111111111,
              "#46039f"
             ],
             [
              0.2222222222222222,
              "#7201a8"
             ],
             [
              0.3333333333333333,
              "#9c179e"
             ],
             [
              0.4444444444444444,
              "#bd3786"
             ],
             [
              0.5555555555555556,
              "#d8576b"
             ],
             [
              0.6666666666666666,
              "#ed7953"
             ],
             [
              0.7777777777777778,
              "#fb9f3a"
             ],
             [
              0.8888888888888888,
              "#fdca26"
             ],
             [
              1,
              "#f0f921"
             ]
            ],
            "type": "heatmap"
           }
          ],
          "heatmapgl": [
           {
            "colorbar": {
             "outlinewidth": 0,
             "ticks": ""
            },
            "colorscale": [
             [
              0,
              "#0d0887"
             ],
             [
              0.1111111111111111,
              "#46039f"
             ],
             [
              0.2222222222222222,
              "#7201a8"
             ],
             [
              0.3333333333333333,
              "#9c179e"
             ],
             [
              0.4444444444444444,
              "#bd3786"
             ],
             [
              0.5555555555555556,
              "#d8576b"
             ],
             [
              0.6666666666666666,
              "#ed7953"
             ],
             [
              0.7777777777777778,
              "#fb9f3a"
             ],
             [
              0.8888888888888888,
              "#fdca26"
             ],
             [
              1,
              "#f0f921"
             ]
            ],
            "type": "heatmapgl"
           }
          ],
          "histogram": [
           {
            "marker": {
             "pattern": {
              "fillmode": "overlay",
              "size": 10,
              "solidity": 0.2
             }
            },
            "type": "histogram"
           }
          ],
          "histogram2d": [
           {
            "colorbar": {
             "outlinewidth": 0,
             "ticks": ""
            },
            "colorscale": [
             [
              0,
              "#0d0887"
             ],
             [
              0.1111111111111111,
              "#46039f"
             ],
             [
              0.2222222222222222,
              "#7201a8"
             ],
             [
              0.3333333333333333,
              "#9c179e"
             ],
             [
              0.4444444444444444,
              "#bd3786"
             ],
             [
              0.5555555555555556,
              "#d8576b"
             ],
             [
              0.6666666666666666,
              "#ed7953"
             ],
             [
              0.7777777777777778,
              "#fb9f3a"
             ],
             [
              0.8888888888888888,
              "#fdca26"
             ],
             [
              1,
              "#f0f921"
             ]
            ],
            "type": "histogram2d"
           }
          ],
          "histogram2dcontour": [
           {
            "colorbar": {
             "outlinewidth": 0,
             "ticks": ""
            },
            "colorscale": [
             [
              0,
              "#0d0887"
             ],
             [
              0.1111111111111111,
              "#46039f"
             ],
             [
              0.2222222222222222,
              "#7201a8"
             ],
             [
              0.3333333333333333,
              "#9c179e"
             ],
             [
              0.4444444444444444,
              "#bd3786"
             ],
             [
              0.5555555555555556,
              "#d8576b"
             ],
             [
              0.6666666666666666,
              "#ed7953"
             ],
             [
              0.7777777777777778,
              "#fb9f3a"
             ],
             [
              0.8888888888888888,
              "#fdca26"
             ],
             [
              1,
              "#f0f921"
             ]
            ],
            "type": "histogram2dcontour"
           }
          ],
          "mesh3d": [
           {
            "colorbar": {
             "outlinewidth": 0,
             "ticks": ""
            },
            "type": "mesh3d"
           }
          ],
          "parcoords": [
           {
            "line": {
             "colorbar": {
              "outlinewidth": 0,
              "ticks": ""
             }
            },
            "type": "parcoords"
           }
          ],
          "pie": [
           {
            "automargin": true,
            "type": "pie"
           }
          ],
          "scatter": [
           {
            "fillpattern": {
             "fillmode": "overlay",
             "size": 10,
             "solidity": 0.2
            },
            "type": "scatter"
           }
          ],
          "scatter3d": [
           {
            "line": {
             "colorbar": {
              "outlinewidth": 0,
              "ticks": ""
             }
            },
            "marker": {
             "colorbar": {
              "outlinewidth": 0,
              "ticks": ""
             }
            },
            "type": "scatter3d"
           }
          ],
          "scattercarpet": [
           {
            "marker": {
             "colorbar": {
              "outlinewidth": 0,
              "ticks": ""
             }
            },
            "type": "scattercarpet"
           }
          ],
          "scattergeo": [
           {
            "marker": {
             "colorbar": {
              "outlinewidth": 0,
              "ticks": ""
             }
            },
            "type": "scattergeo"
           }
          ],
          "scattergl": [
           {
            "marker": {
             "colorbar": {
              "outlinewidth": 0,
              "ticks": ""
             }
            },
            "type": "scattergl"
           }
          ],
          "scattermapbox": [
           {
            "marker": {
             "colorbar": {
              "outlinewidth": 0,
              "ticks": ""
             }
            },
            "type": "scattermapbox"
           }
          ],
          "scatterpolar": [
           {
            "marker": {
             "colorbar": {
              "outlinewidth": 0,
              "ticks": ""
             }
            },
            "type": "scatterpolar"
           }
          ],
          "scatterpolargl": [
           {
            "marker": {
             "colorbar": {
              "outlinewidth": 0,
              "ticks": ""
             }
            },
            "type": "scatterpolargl"
           }
          ],
          "scatterternary": [
           {
            "marker": {
             "colorbar": {
              "outlinewidth": 0,
              "ticks": ""
             }
            },
            "type": "scatterternary"
           }
          ],
          "surface": [
           {
            "colorbar": {
             "outlinewidth": 0,
             "ticks": ""
            },
            "colorscale": [
             [
              0,
              "#0d0887"
             ],
             [
              0.1111111111111111,
              "#46039f"
             ],
             [
              0.2222222222222222,
              "#7201a8"
             ],
             [
              0.3333333333333333,
              "#9c179e"
             ],
             [
              0.4444444444444444,
              "#bd3786"
             ],
             [
              0.5555555555555556,
              "#d8576b"
             ],
             [
              0.6666666666666666,
              "#ed7953"
             ],
             [
              0.7777777777777778,
              "#fb9f3a"
             ],
             [
              0.8888888888888888,
              "#fdca26"
             ],
             [
              1,
              "#f0f921"
             ]
            ],
            "type": "surface"
           }
          ],
          "table": [
           {
            "cells": {
             "fill": {
              "color": "#EBF0F8"
             },
             "line": {
              "color": "white"
             }
            },
            "header": {
             "fill": {
              "color": "#C8D4E3"
             },
             "line": {
              "color": "white"
             }
            },
            "type": "table"
           }
          ]
         },
         "layout": {
          "annotationdefaults": {
           "arrowcolor": "#2a3f5f",
           "arrowhead": 0,
           "arrowwidth": 1
          },
          "autotypenumbers": "strict",
          "coloraxis": {
           "colorbar": {
            "outlinewidth": 0,
            "ticks": ""
           }
          },
          "colorscale": {
           "diverging": [
            [
             0,
             "#8e0152"
            ],
            [
             0.1,
             "#c51b7d"
            ],
            [
             0.2,
             "#de77ae"
            ],
            [
             0.3,
             "#f1b6da"
            ],
            [
             0.4,
             "#fde0ef"
            ],
            [
             0.5,
             "#f7f7f7"
            ],
            [
             0.6,
             "#e6f5d0"
            ],
            [
             0.7,
             "#b8e186"
            ],
            [
             0.8,
             "#7fbc41"
            ],
            [
             0.9,
             "#4d9221"
            ],
            [
             1,
             "#276419"
            ]
           ],
           "sequential": [
            [
             0,
             "#0d0887"
            ],
            [
             0.1111111111111111,
             "#46039f"
            ],
            [
             0.2222222222222222,
             "#7201a8"
            ],
            [
             0.3333333333333333,
             "#9c179e"
            ],
            [
             0.4444444444444444,
             "#bd3786"
            ],
            [
             0.5555555555555556,
             "#d8576b"
            ],
            [
             0.6666666666666666,
             "#ed7953"
            ],
            [
             0.7777777777777778,
             "#fb9f3a"
            ],
            [
             0.8888888888888888,
             "#fdca26"
            ],
            [
             1,
             "#f0f921"
            ]
           ],
           "sequentialminus": [
            [
             0,
             "#0d0887"
            ],
            [
             0.1111111111111111,
             "#46039f"
            ],
            [
             0.2222222222222222,
             "#7201a8"
            ],
            [
             0.3333333333333333,
             "#9c179e"
            ],
            [
             0.4444444444444444,
             "#bd3786"
            ],
            [
             0.5555555555555556,
             "#d8576b"
            ],
            [
             0.6666666666666666,
             "#ed7953"
            ],
            [
             0.7777777777777778,
             "#fb9f3a"
            ],
            [
             0.8888888888888888,
             "#fdca26"
            ],
            [
             1,
             "#f0f921"
            ]
           ]
          },
          "colorway": [
           "#636efa",
           "#EF553B",
           "#00cc96",
           "#ab63fa",
           "#FFA15A",
           "#19d3f3",
           "#FF6692",
           "#B6E880",
           "#FF97FF",
           "#FECB52"
          ],
          "font": {
           "color": "#2a3f5f"
          },
          "geo": {
           "bgcolor": "white",
           "lakecolor": "white",
           "landcolor": "#E5ECF6",
           "showlakes": true,
           "showland": true,
           "subunitcolor": "white"
          },
          "hoverlabel": {
           "align": "left"
          },
          "hovermode": "closest",
          "mapbox": {
           "style": "light"
          },
          "paper_bgcolor": "white",
          "plot_bgcolor": "#E5ECF6",
          "polar": {
           "angularaxis": {
            "gridcolor": "white",
            "linecolor": "white",
            "ticks": ""
           },
           "bgcolor": "#E5ECF6",
           "radialaxis": {
            "gridcolor": "white",
            "linecolor": "white",
            "ticks": ""
           }
          },
          "scene": {
           "xaxis": {
            "backgroundcolor": "#E5ECF6",
            "gridcolor": "white",
            "gridwidth": 2,
            "linecolor": "white",
            "showbackground": true,
            "ticks": "",
            "zerolinecolor": "white"
           },
           "yaxis": {
            "backgroundcolor": "#E5ECF6",
            "gridcolor": "white",
            "gridwidth": 2,
            "linecolor": "white",
            "showbackground": true,
            "ticks": "",
            "zerolinecolor": "white"
           },
           "zaxis": {
            "backgroundcolor": "#E5ECF6",
            "gridcolor": "white",
            "gridwidth": 2,
            "linecolor": "white",
            "showbackground": true,
            "ticks": "",
            "zerolinecolor": "white"
           }
          },
          "shapedefaults": {
           "line": {
            "color": "#2a3f5f"
           }
          },
          "ternary": {
           "aaxis": {
            "gridcolor": "white",
            "linecolor": "white",
            "ticks": ""
           },
           "baxis": {
            "gridcolor": "white",
            "linecolor": "white",
            "ticks": ""
           },
           "bgcolor": "#E5ECF6",
           "caxis": {
            "gridcolor": "white",
            "linecolor": "white",
            "ticks": ""
           }
          },
          "title": {
           "x": 0.05
          },
          "xaxis": {
           "automargin": true,
           "gridcolor": "white",
           "linecolor": "white",
           "ticks": "",
           "title": {
            "standoff": 15
           },
           "zerolinecolor": "white",
           "zerolinewidth": 2
          },
          "yaxis": {
           "automargin": true,
           "gridcolor": "white",
           "linecolor": "white",
           "ticks": "",
           "title": {
            "standoff": 15
           },
           "zerolinecolor": "white",
           "zerolinewidth": 2
          }
         }
        },
        "title": {
         "text": ""
        },
        "xaxis": {
         "autorange": true,
         "range": [
          -0.5,
          1.5
         ],
         "title": {
          "text": ""
         },
         "type": "linear"
        },
        "yaxis": {
         "autorange": true,
         "range": [
          0,
          298.9473684210526
         ],
         "title": {
          "text": ""
         },
         "type": "linear"
        }
       }
      },
      "image/png": "[encoded data removed]",
      "text/html": [
       "<div>                            <div id=\"455dfb7f-8033-46e0-9d74-f5093c30e8f4\" class=\"plotly-graph-div\" style=\"height:500px; width:100%;\"></div>            <script type=\"text/javascript\">                require([\"plotly\"], function(Plotly) {                    window.PLOTLYENV=window.PLOTLYENV || {};                                    if (document.getElementById(\"455dfb7f-8033-46e0-9d74-f5093c30e8f4\")) {                    Plotly.newPlot(                        \"455dfb7f-8033-46e0-9d74-f5093c30e8f4\",                        [{\"legendgroup\":\"group\",\"marker\":{\"color\":[\"#7d3c98\",\"#1d8348\"]},\"text\":[\"normal\",\"abnormal\"],\"width\":0.3,\"x\":[0,1],\"y\":[284,233],\"type\":\"bar\"}],                        {\"template\":{\"data\":{\"histogram2dcontour\":[{\"type\":\"histogram2dcontour\",\"colorbar\":{\"outlinewidth\":0,\"ticks\":\"\"},\"colorscale\":[[0.0,\"#0d0887\"],[0.1111111111111111,\"#46039f\"],[0.2222222222222222,\"#7201a8\"],[0.3333333333333333,\"#9c179e\"],[0.4444444444444444,\"#bd3786\"],[0.5555555555555556,\"#d8576b\"],[0.6666666666666666,\"#ed7953\"],[0.7777777777777778,\"#fb9f3a\"],[0.8888888888888888,\"#fdca26\"],[1.0,\"#f0f921\"]]}],\"choropleth\":[{\"type\":\"choropleth\",\"colorbar\":{\"outlinewidth\":0,\"ticks\":\"\"}}],\"histogram2d\":[{\"type\":\"histogram2d\",\"colorbar\":{\"outlinewidth\":0,\"ticks\":\"\"},\"colorscale\":[[0.0,\"#0d0887\"],[0.1111111111111111,\"#46039f\"],[0.2222222222222222,\"#7201a8\"],[0.3333333333333333,\"#9c179e\"],[0.4444444444444444,\"#bd3786\"],[0.5555555555555556,\"#d8576b\"],[0.6666666666666666,\"#ed7953\"],[0.7777777777777778,\"#fb9f3a\"],[0.8888888888888888,\"#fdca26\"],[1.0,\"#f0f921\"]]}],\"heatmap\":[{\"type\":\"heatmap\",\"colorbar\":{\"outlinewidth\":0,\"ticks\":\"\"},\"colorscale\":[[0.0,\"#0d0887\"],[0.1111111111111111,\"#46039f\"],[0.2222222222222222,\"#7201a8\"],[0.3333333333333333,\"#9c179e\"],[0.4444444444444444,\"#bd3786\"],[0.5555555555555556,\"#d8576b\"],[0.6666666666666666,\"#ed7953\"],[0.7777777777777778,\"#fb9f3a\"],[0.8888888888888888,\"#fdca26\"],[1.0,\"#f0f921\"]]}],\"heatmapgl\":[{\"type\":\"heatmapgl\",\"colorbar\":{\"outlinewidth\":0,\"ticks\":\"\"},\"colorscale\":[[0.0,\"#0d0887\"],[0.1111111111111111,\"#46039f\"],[0.2222222222222222,\"#7201a8\"],[0.3333333333333333,\"#9c179e\"],[0.4444444444444444,\"#bd3786\"],[0.5555555555555556,\"#d8576b\"],[0.6666666666666666,\"#ed7953\"],[0.7777777777777778,\"#fb9f3a\"],[0.8888888888888888,\"#fdca26\"],[1.0,\"#f0f921\"]]}],\"contourcarpet\":[{\"type\":\"contourcarpet\",\"colorbar\":{\"outlinewidth\":0,\"ticks\":\"\"}}],\"contour\":[{\"type\":\"contour\",\"colorbar\":{\"outlinewidth\":0,\"ticks\":\"\"},\"colorscale\":[[0.0,\"#0d0887\"],[0.1111111111111111,\"#46039f\"],[0.2222222222222222,\"#7201a8\"],[0.3333333333333333,\"#9c179e\"],[0.4444444444444444,\"#bd3786\"],[0.5555555555555556,\"#d8576b\"],[0.6666666666666666,\"#ed7953\"],[0.7777777777777778,\"#fb9f3a\"],[0.8888888888888888,\"#fdca26\"],[1.0,\"#f0f921\"]]}],\"surface\":[{\"type\":\"surface\",\"colorbar\":{\"outlinewidth\":0,\"ticks\":\"\"},\"colorscale\":[[0.0,\"#0d0887\"],[0.1111111111111111,\"#46039f\"],[0.2222222222222222,\"#7201a8\"],[0.3333333333333333,\"#9c179e\"],[0.4444444444444444,\"#bd3786\"],[0.5555555555555556,\"#d8576b\"],[0.6666666666666666,\"#ed7953\"],[0.7777777777777778,\"#fb9f3a\"],[0.8888888888888888,\"#fdca26\"],[1.0,\"#f0f921\"]]}],\"mesh3d\":[{\"type\":\"mesh3d\",\"colorbar\":{\"outlinewidth\":0,\"ticks\":\"\"}}],\"scatter\":[{\"fillpattern\":{\"fillmode\":\"overlay\",\"size\":10,\"solidity\":0.2},\"type\":\"scatter\"}],\"parcoords\":[{\"type\":\"parcoords\",\"line\":{\"colorbar\":{\"outlinewidth\":0,\"ticks\":\"\"}}}],\"scatterpolargl\":[{\"type\":\"scatterpolargl\",\"marker\":{\"colorbar\":{\"outlinewidth\":0,\"ticks\":\"\"}}}],\"bar\":[{\"error_x\":{\"color\":\"#2a3f5f\"},\"error_y\":{\"color\":\"#2a3f5f\"},\"marker\":{\"line\":{\"color\":\"#E5ECF6\",\"width\":0.5},\"pattern\":{\"fillmode\":\"overlay\",\"size\":10,\"solidity\":0.2}},\"type\":\"bar\"}],\"scattergeo\":[{\"type\":\"scattergeo\",\"marker\":{\"colorbar\":{\"outlinewidth\":0,\"ticks\":\"\"}}}],\"scatterpolar\":[{\"type\":\"scatterpolar\",\"marker\":{\"colorbar\":{\"outlinewidth\":0,\"ticks\":\"\"}}}],\"histogram\":[{\"marker\":{\"pattern\":{\"fillmode\":\"overlay\",\"size\":10,\"solidity\":0.2}},\"type\":\"histogram\"}],\"scattergl\":[{\"type\":\"scattergl\",\"marker\":{\"colorbar\":{\"outlinewidth\":0,\"ticks\":\"\"}}}],\"scatter3d\":[{\"type\":\"scatter3d\",\"line\":{\"colorbar\":{\"outlinewidth\":0,\"ticks\":\"\"}},\"marker\":{\"colorbar\":{\"outlinewidth\":0,\"ticks\":\"\"}}}],\"scattermapbox\":[{\"type\":\"scattermapbox\",\"marker\":{\"colorbar\":{\"outlinewidth\":0,\"ticks\":\"\"}}}],\"scatterternary\":[{\"type\":\"scatterternary\",\"marker\":{\"colorbar\":{\"outlinewidth\":0,\"ticks\":\"\"}}}],\"scattercarpet\":[{\"type\":\"scattercarpet\",\"marker\":{\"colorbar\":{\"outlinewidth\":0,\"ticks\":\"\"}}}],\"carpet\":[{\"aaxis\":{\"endlinecolor\":\"#2a3f5f\",\"gridcolor\":\"white\",\"linecolor\":\"white\",\"minorgridcolor\":\"white\",\"startlinecolor\":\"#2a3f5f\"},\"baxis\":{\"endlinecolor\":\"#2a3f5f\",\"gridcolor\":\"white\",\"linecolor\":\"white\",\"minorgridcolor\":\"white\",\"startlinecolor\":\"#2a3f5f\"},\"type\":\"carpet\"}],\"table\":[{\"cells\":{\"fill\":{\"color\":\"#EBF0F8\"},\"line\":{\"color\":\"white\"}},\"header\":{\"fill\":{\"color\":\"#C8D4E3\"},\"line\":{\"color\":\"white\"}},\"type\":\"table\"}],\"barpolar\":[{\"marker\":{\"line\":{\"color\":\"#E5ECF6\",\"width\":0.5},\"pattern\":{\"fillmode\":\"overlay\",\"size\":10,\"solidity\":0.2}},\"type\":\"barpolar\"}],\"pie\":[{\"automargin\":true,\"type\":\"pie\"}]},\"layout\":{\"autotypenumbers\":\"strict\",\"colorway\":[\"#636efa\",\"#EF553B\",\"#00cc96\",\"#ab63fa\",\"#FFA15A\",\"#19d3f3\",\"#FF6692\",\"#B6E880\",\"#FF97FF\",\"#FECB52\"],\"font\":{\"color\":\"#2a3f5f\"},\"hovermode\":\"closest\",\"hoverlabel\":{\"align\":\"left\"},\"paper_bgcolor\":\"white\",\"plot_bgcolor\":\"#E5ECF6\",\"polar\":{\"bgcolor\":\"#E5ECF6\",\"angularaxis\":{\"gridcolor\":\"white\",\"linecolor\":\"white\",\"ticks\":\"\"},\"radialaxis\":{\"gridcolor\":\"white\",\"linecolor\":\"white\",\"ticks\":\"\"}},\"ternary\":{\"bgcolor\":\"#E5ECF6\",\"aaxis\":{\"gridcolor\":\"white\",\"linecolor\":\"white\",\"ticks\":\"\"},\"baxis\":{\"gridcolor\":\"white\",\"linecolor\":\"white\",\"ticks\":\"\"},\"caxis\":{\"gridcolor\":\"white\",\"linecolor\":\"white\",\"ticks\":\"\"}},\"coloraxis\":{\"colorbar\":{\"outlinewidth\":0,\"ticks\":\"\"}},\"colorscale\":{\"sequential\":[[0.0,\"#0d0887\"],[0.1111111111111111,\"#46039f\"],[0.2222222222222222,\"#7201a8\"],[0.3333333333333333,\"#9c179e\"],[0.4444444444444444,\"#bd3786\"],[0.5555555555555556,\"#d8576b\"],[0.6666666666666666,\"#ed7953\"],[0.7777777777777778,\"#fb9f3a\"],[0.8888888888888888,\"#fdca26\"],[1.0,\"#f0f921\"]],\"sequentialminus\":[[0.0,\"#0d0887\"],[0.1111111111111111,\"#46039f\"],[0.2222222222222222,\"#7201a8\"],[0.3333333333333333,\"#9c179e\"],[0.4444444444444444,\"#bd3786\"],[0.5555555555555556,\"#d8576b\"],[0.6666666666666666,\"#ed7953\"],[0.7777777777777778,\"#fb9f3a\"],[0.8888888888888888,\"#fdca26\"],[1.0,\"#f0f921\"]],\"diverging\":[[0,\"#8e0152\"],[0.1,\"#c51b7d\"],[0.2,\"#de77ae\"],[0.3,\"#f1b6da\"],[0.4,\"#fde0ef\"],[0.5,\"#f7f7f7\"],[0.6,\"#e6f5d0\"],[0.7,\"#b8e186\"],[0.8,\"#7fbc41\"],[0.9,\"#4d9221\"],[1,\"#276419\"]]},\"xaxis\":{\"gridcolor\":\"white\",\"linecolor\":\"white\",\"ticks\":\"\",\"title\":{\"standoff\":15},\"zerolinecolor\":\"white\",\"automargin\":true,\"zerolinewidth\":2},\"yaxis\":{\"gridcolor\":\"white\",\"linecolor\":\"white\",\"ticks\":\"\",\"title\":{\"standoff\":15},\"zerolinecolor\":\"white\",\"automargin\":true,\"zerolinewidth\":2},\"scene\":{\"xaxis\":{\"backgroundcolor\":\"#E5ECF6\",\"gridcolor\":\"white\",\"linecolor\":\"white\",\"showbackground\":true,\"ticks\":\"\",\"zerolinecolor\":\"white\",\"gridwidth\":2},\"yaxis\":{\"backgroundcolor\":\"#E5ECF6\",\"gridcolor\":\"white\",\"linecolor\":\"white\",\"showbackground\":true,\"ticks\":\"\",\"zerolinecolor\":\"white\",\"gridwidth\":2},\"zaxis\":{\"backgroundcolor\":\"#E5ECF6\",\"gridcolor\":\"white\",\"linecolor\":\"white\",\"showbackground\":true,\"ticks\":\"\",\"zerolinecolor\":\"white\",\"gridwidth\":2}},\"shapedefaults\":{\"line\":{\"color\":\"#2a3f5f\"}},\"annotationdefaults\":{\"arrowcolor\":\"#2a3f5f\",\"arrowhead\":0,\"arrowwidth\":1},\"geo\":{\"bgcolor\":\"white\",\"landcolor\":\"#E5ECF6\",\"subunitcolor\":\"white\",\"showland\":true,\"showlakes\":true,\"lakecolor\":\"white\"},\"title\":{\"x\":0.05},\"mapbox\":{\"style\":\"light\"}}},\"title\":{\"text\":\"\"},\"xaxis\":{\"title\":{\"text\":\"\"}},\"yaxis\":{\"title\":{\"text\":\"\"}},\"height\":500},                        {\"responsive\": true}                    ).then(function(){\n",
       "                            \n",
       "var gd = document.getElementById('455dfb7f-8033-46e0-9d74-f5093c30e8f4');\n",
       "var x = new MutationObserver(function (mutations, observer) {{\n",
       "        var display = window.getComputedStyle(gd).display;\n",
       "        if (!display || display === 'none') {{\n",
       "            console.log([gd, 'removed!']);\n",
       "            Plotly.purge(gd);\n",
       "            observer.disconnect();\n",
       "        }}\n",
       "}});\n",
       "\n",
       "// Listen for the removal of the full notebook cells\n",
       "var notebookContainer = gd.closest('#notebook-container');\n",
       "if (notebookContainer) {{\n",
       "    x.observe(notebookContainer, {childList: true});\n",
       "}}\n",
       "\n",
       "// Listen for the clearing of the current output cell\n",
       "var outputEl = gd.closest('.output');\n",
       "if (outputEl) {{\n",
       "    x.observe(outputEl, {childList: true});\n",
       "}}\n",
       "\n",
       "                        })                };                });            </script>        </div>"
      ]
     },
     "metadata": {},
     "output_type": "display_data"
    }
   ],
   "source": [
    "# use plotly go to find number of normal and abnormal images\n",
    "indx = dataset['Label'].value_counts().index\n",
    "vals = dataset['Label'].value_counts().values\n",
    "\n",
    "fig = go.Figure()\n",
    "\n",
    "labels = ['normal', 'abnormal']\n",
    "\n",
    "colors = ['#7d3c98' if label == 'normal' else '#1d8348' for label in labels]\n",
    "\n",
    "fig.add_trace(go.Bar(x = indx, y = vals, width = 0.3, marker_color = colors, text = labels, legendgroup = 'group'))\n",
    "fig.update_layout(title = '', xaxis_title = '', yaxis_title = '', height = 500)\n",
    "fig.show()"
   ]
  },
  {
   "cell_type": "markdown",
   "id": "bbc5d637-90ca-48b8-9e2c-83f54042debb",
   "metadata": {},
   "source": [
    "## ANN Implementation"
   ]
  },
  {
   "cell_type": "code",
   "execution_count": 34,
   "id": "24decae0-b329-4c23-882b-18fff5c41f43",
   "metadata": {},
   "outputs": [
    {
     "data": {
      "text/plain": [
       "0    1\n",
       "1    0\n",
       "2    0\n",
       "3    0\n",
       "4    0\n",
       "Name: Label, dtype: int64"
      ]
     },
     "execution_count": 34,
     "metadata": {},
     "output_type": "execute_result"
    }
   ],
   "source": [
    "# separate data into dependent and independent\n",
    "X = dataset.iloc[ : , : -1]\n",
    "y = dataset.iloc[ : , -1]\n",
    "y.head()"
   ]
  },
  {
   "cell_type": "code",
   "execution_count": 35,
   "id": "330b117a-969d-45e3-ab20-6a4c5d3cd95f",
   "metadata": {},
   "outputs": [],
   "source": [
    "# sclae values around 1\n",
    "scaler = StandardScaler()\n",
    "\n",
    "x = scaler.fit_transform(X)"
   ]
  },
  {
   "cell_type": "code",
   "execution_count": 37,
   "id": "048fcc4d-f01c-4549-bad3-bf17a776115e",
   "metadata": {},
   "outputs": [
    {
     "data": {
      "text/plain": [
       "9"
      ]
     },
     "execution_count": 37,
     "metadata": {},
     "output_type": "execute_result"
    }
   ],
   "source": [
    "len(X.columns)"
   ]
  },
  {
   "cell_type": "code",
   "execution_count": 38,
   "id": "68cb4605-8a7f-458a-8c0b-4a3b6916d274",
   "metadata": {},
   "outputs": [],
   "source": [
    "# split data into training and testing\n",
    "x_train, x_test, y_train, y_test = train_test_split(x, y, test_size = 0.1, random_state = 1)"
   ]
  },
  {
   "cell_type": "code",
   "execution_count": 39,
   "id": "f9692521-b642-434d-a27a-9e4720b9a03e",
   "metadata": {},
   "outputs": [
    {
     "name": "stdout",
     "output_type": "stream",
     "text": [
      "Model: \"sequential_1\"\n",
      "_________________________________________________________________\n",
      " Layer (type)                Output Shape              Param #   \n",
      "=================================================================\n",
      " dense_5 (Dense)             (None, 9)                 90        \n",
      "                                                                 \n",
      " dense_6 (Dense)             (None, 128)               1280      \n",
      "                                                                 \n",
      " dense_7 (Dense)             (None, 128)               16512     \n",
      "                                                                 \n",
      " dense_8 (Dense)             (None, 128)               16512     \n",
      "                                                                 \n",
      " dense_9 (Dense)             (None, 1)                 129       \n",
      "                                                                 \n",
      "=================================================================\n",
      "Total params: 34523 (134.86 KB)\n",
      "Trainable params: 34523 (134.86 KB)\n",
      "Non-trainable params: 0 (0.00 Byte)\n",
      "_________________________________________________________________\n"
     ]
    }
   ],
   "source": [
    "# declare model\n",
    "model = Sequential()\n",
    "\n",
    "# input layer\n",
    "model.add(Dense(units = len(X.columns), input_dim = len(X.columns), input_shape = (len(X.columns), ), kernel_initializer = 'uniform'))\n",
    "\n",
    "# first hidden layer\n",
    "model.add(Dense(units = 128, activation = 'relu', kernel_initializer = 'uniform'))\n",
    "\n",
    "# second hidden layer\n",
    "model.add(Dense(units = 128, activation = 'tanh', kernel_initializer = 'uniform'))\n",
    "\n",
    "# third hidden layer\n",
    "model.add(Dense(units = 128, activation = 'relu', kernel_initializer = 'uniform'))\n",
    "\n",
    "# output layer\n",
    "model.add(Dense(1, activation = 'sigmoid', kernel_initializer = 'uniform'))\n",
    "\n",
    "# summary of prepared model\n",
    "model.summary()"
   ]
  },
  {
   "cell_type": "code",
   "execution_count": 40,
   "id": "afeeb63a-8662-48c2-8959-07180fcf7f8b",
   "metadata": {},
   "outputs": [],
   "source": [
    "# compile model\n",
    "model.compile(optimizer = 'adam', loss = 'BinaryCrossentropy', metrics = ['accuracy'])"
   ]
  },
  {
   "cell_type": "code",
   "execution_count": 41,
   "id": "046fdd73-56a2-4101-badd-e93f134aaa08",
   "metadata": {},
   "outputs": [
    {
     "name": "stdout",
     "output_type": "stream",
     "text": [
      "Epoch 1/100\n",
      "93/93 [==============================] - 3s 8ms/step - loss: 0.4199 - accuracy: 0.8581 - val_loss: 0.3642 - val_accuracy: 0.8654\n",
      "Epoch 2/100\n",
      "93/93 [==============================] - 0s 4ms/step - loss: 0.2804 - accuracy: 0.8925 - val_loss: 0.4188 - val_accuracy: 0.8654\n",
      "Epoch 3/100\n",
      "93/93 [==============================] - 0s 4ms/step - loss: 0.2782 - accuracy: 0.8839 - val_loss: 0.3626 - val_accuracy: 0.8846\n",
      "Epoch 4/100\n",
      "93/93 [==============================] - 0s 4ms/step - loss: 0.2721 - accuracy: 0.8989 - val_loss: 0.3844 - val_accuracy: 0.8654\n",
      "Epoch 5/100\n",
      "93/93 [==============================] - 0s 4ms/step - loss: 0.2720 - accuracy: 0.8968 - val_loss: 0.3351 - val_accuracy: 0.8846\n",
      "Epoch 6/100\n",
      "93/93 [==============================] - 0s 4ms/step - loss: 0.2698 - accuracy: 0.8968 - val_loss: 0.3144 - val_accuracy: 0.8846\n",
      "Epoch 7/100\n",
      "93/93 [==============================] - 0s 4ms/step - loss: 0.2644 - accuracy: 0.8925 - val_loss: 0.3256 - val_accuracy: 0.8846\n",
      "Epoch 8/100\n",
      "93/93 [==============================] - 0s 4ms/step - loss: 0.2702 - accuracy: 0.8968 - val_loss: 0.3073 - val_accuracy: 0.8654\n",
      "Epoch 9/100\n",
      "93/93 [==============================] - 0s 5ms/step - loss: 0.2693 - accuracy: 0.9032 - val_loss: 0.3392 - val_accuracy: 0.8654\n",
      "Epoch 10/100\n",
      "93/93 [==============================] - 0s 4ms/step - loss: 0.2677 - accuracy: 0.9032 - val_loss: 0.3664 - val_accuracy: 0.8846\n",
      "Epoch 11/100\n",
      "93/93 [==============================] - 0s 4ms/step - loss: 0.2619 - accuracy: 0.9011 - val_loss: 0.3395 - val_accuracy: 0.8846\n",
      "Epoch 12/100\n",
      "93/93 [==============================] - 0s 4ms/step - loss: 0.2682 - accuracy: 0.9032 - val_loss: 0.3622 - val_accuracy: 0.8846\n",
      "Epoch 13/100\n",
      "93/93 [==============================] - 0s 4ms/step - loss: 0.2716 - accuracy: 0.9011 - val_loss: 0.3843 - val_accuracy: 0.8846\n",
      "Epoch 14/100\n",
      "93/93 [==============================] - 0s 4ms/step - loss: 0.2646 - accuracy: 0.8989 - val_loss: 0.3181 - val_accuracy: 0.8846\n",
      "Epoch 15/100\n",
      "93/93 [==============================] - 0s 4ms/step - loss: 0.2647 - accuracy: 0.8903 - val_loss: 0.3677 - val_accuracy: 0.8846\n",
      "Epoch 16/100\n",
      "93/93 [==============================] - 0s 4ms/step - loss: 0.2555 - accuracy: 0.8968 - val_loss: 0.3584 - val_accuracy: 0.8846\n",
      "Epoch 17/100\n",
      "93/93 [==============================] - 0s 4ms/step - loss: 0.2655 - accuracy: 0.9054 - val_loss: 0.3520 - val_accuracy: 0.8846\n",
      "Epoch 18/100\n",
      "93/93 [==============================] - 0s 4ms/step - loss: 0.2624 - accuracy: 0.8989 - val_loss: 0.3580 - val_accuracy: 0.8654\n",
      "Epoch 19/100\n",
      "93/93 [==============================] - 0s 4ms/step - loss: 0.2639 - accuracy: 0.9075 - val_loss: 0.3378 - val_accuracy: 0.8846\n",
      "Epoch 20/100\n",
      "93/93 [==============================] - 0s 4ms/step - loss: 0.2651 - accuracy: 0.8968 - val_loss: 0.3707 - val_accuracy: 0.8654\n",
      "Epoch 21/100\n",
      "93/93 [==============================] - 0s 4ms/step - loss: 0.2583 - accuracy: 0.9075 - val_loss: 0.3524 - val_accuracy: 0.8846\n",
      "Epoch 22/100\n",
      "93/93 [==============================] - 0s 4ms/step - loss: 0.2631 - accuracy: 0.9011 - val_loss: 0.3870 - val_accuracy: 0.8654\n",
      "Epoch 23/100\n",
      "93/93 [==============================] - 0s 4ms/step - loss: 0.2602 - accuracy: 0.8925 - val_loss: 0.4523 - val_accuracy: 0.8654\n",
      "Epoch 24/100\n",
      "93/93 [==============================] - 0s 4ms/step - loss: 0.2636 - accuracy: 0.9054 - val_loss: 0.3125 - val_accuracy: 0.8846\n",
      "Epoch 25/100\n",
      "93/93 [==============================] - 0s 5ms/step - loss: 0.2654 - accuracy: 0.9032 - val_loss: 0.3425 - val_accuracy: 0.8846\n",
      "Epoch 26/100\n",
      "93/93 [==============================] - 0s 4ms/step - loss: 0.2641 - accuracy: 0.9075 - val_loss: 0.3247 - val_accuracy: 0.8846\n",
      "Epoch 27/100\n",
      "93/93 [==============================] - 0s 4ms/step - loss: 0.2700 - accuracy: 0.8989 - val_loss: 0.3173 - val_accuracy: 0.8846\n",
      "Epoch 28/100\n",
      "93/93 [==============================] - 0s 4ms/step - loss: 0.2703 - accuracy: 0.8946 - val_loss: 0.3455 - val_accuracy: 0.8846\n",
      "Epoch 29/100\n",
      "93/93 [==============================] - 0s 4ms/step - loss: 0.2588 - accuracy: 0.8989 - val_loss: 0.3347 - val_accuracy: 0.8846\n",
      "Epoch 30/100\n",
      "93/93 [==============================] - 0s 4ms/step - loss: 0.2647 - accuracy: 0.9075 - val_loss: 0.3600 - val_accuracy: 0.8846\n",
      "Epoch 31/100\n",
      "93/93 [==============================] - 0s 4ms/step - loss: 0.2635 - accuracy: 0.8968 - val_loss: 0.3657 - val_accuracy: 0.8846\n",
      "Epoch 32/100\n",
      "93/93 [==============================] - 0s 5ms/step - loss: 0.2581 - accuracy: 0.9032 - val_loss: 0.3662 - val_accuracy: 0.8846\n",
      "Epoch 33/100\n",
      "93/93 [==============================] - 0s 4ms/step - loss: 0.2581 - accuracy: 0.9011 - val_loss: 0.3368 - val_accuracy: 0.8846\n",
      "Epoch 34/100\n",
      "93/93 [==============================] - 0s 4ms/step - loss: 0.2647 - accuracy: 0.8882 - val_loss: 0.3625 - val_accuracy: 0.8654\n",
      "Epoch 35/100\n",
      "93/93 [==============================] - 0s 4ms/step - loss: 0.2640 - accuracy: 0.9075 - val_loss: 0.3649 - val_accuracy: 0.8846\n",
      "Epoch 36/100\n",
      "93/93 [==============================] - 0s 4ms/step - loss: 0.2609 - accuracy: 0.9011 - val_loss: 0.3524 - val_accuracy: 0.8846\n",
      "Epoch 37/100\n",
      "93/93 [==============================] - 0s 4ms/step - loss: 0.2627 - accuracy: 0.9075 - val_loss: 0.3166 - val_accuracy: 0.8846\n",
      "Epoch 38/100\n",
      "93/93 [==============================] - 0s 4ms/step - loss: 0.2606 - accuracy: 0.8946 - val_loss: 0.3370 - val_accuracy: 0.8846\n",
      "Epoch 39/100\n",
      "93/93 [==============================] - 0s 4ms/step - loss: 0.2642 - accuracy: 0.9011 - val_loss: 0.3049 - val_accuracy: 0.8846\n",
      "Epoch 40/100\n",
      "93/93 [==============================] - 0s 4ms/step - loss: 0.2595 - accuracy: 0.9032 - val_loss: 0.3773 - val_accuracy: 0.8846\n",
      "Epoch 41/100\n",
      "93/93 [==============================] - 0s 4ms/step - loss: 0.2566 - accuracy: 0.9054 - val_loss: 0.3857 - val_accuracy: 0.8846\n",
      "Epoch 42/100\n",
      "93/93 [==============================] - 0s 4ms/step - loss: 0.2577 - accuracy: 0.9011 - val_loss: 0.3527 - val_accuracy: 0.8846\n",
      "Epoch 43/100\n",
      "93/93 [==============================] - 0s 4ms/step - loss: 0.2613 - accuracy: 0.9054 - val_loss: 0.3272 - val_accuracy: 0.8846\n",
      "Epoch 44/100\n",
      "93/93 [==============================] - 0s 4ms/step - loss: 0.2588 - accuracy: 0.9097 - val_loss: 0.3297 - val_accuracy: 0.8846\n",
      "Epoch 45/100\n",
      "93/93 [==============================] - 0s 4ms/step - loss: 0.2590 - accuracy: 0.8989 - val_loss: 0.3182 - val_accuracy: 0.8846\n",
      "Epoch 46/100\n",
      "93/93 [==============================] - 0s 4ms/step - loss: 0.2626 - accuracy: 0.9054 - val_loss: 0.3766 - val_accuracy: 0.8846\n",
      "Epoch 47/100\n",
      "93/93 [==============================] - 0s 4ms/step - loss: 0.2721 - accuracy: 0.8925 - val_loss: 0.3680 - val_accuracy: 0.8846\n",
      "Epoch 48/100\n",
      "93/93 [==============================] - 0s 4ms/step - loss: 0.2577 - accuracy: 0.9032 - val_loss: 0.3298 - val_accuracy: 0.8846\n",
      "Epoch 49/100\n",
      "93/93 [==============================] - 0s 4ms/step - loss: 0.2574 - accuracy: 0.9075 - val_loss: 0.3561 - val_accuracy: 0.8846\n",
      "Epoch 50/100\n",
      "93/93 [==============================] - 0s 4ms/step - loss: 0.2605 - accuracy: 0.9054 - val_loss: 0.3488 - val_accuracy: 0.8846\n",
      "Epoch 51/100\n",
      "93/93 [==============================] - 0s 4ms/step - loss: 0.2560 - accuracy: 0.9032 - val_loss: 0.3669 - val_accuracy: 0.8846\n",
      "Epoch 52/100\n",
      "93/93 [==============================] - 0s 4ms/step - loss: 0.2549 - accuracy: 0.9032 - val_loss: 0.3221 - val_accuracy: 0.9038\n",
      "Epoch 53/100\n",
      "93/93 [==============================] - 0s 4ms/step - loss: 0.2582 - accuracy: 0.9032 - val_loss: 0.4003 - val_accuracy: 0.8654\n",
      "Epoch 54/100\n",
      "93/93 [==============================] - 0s 4ms/step - loss: 0.2618 - accuracy: 0.8946 - val_loss: 0.3600 - val_accuracy: 0.8846\n",
      "Epoch 55/100\n",
      "93/93 [==============================] - 0s 4ms/step - loss: 0.2592 - accuracy: 0.9054 - val_loss: 0.3930 - val_accuracy: 0.8846\n",
      "Epoch 56/100\n",
      "93/93 [==============================] - 0s 4ms/step - loss: 0.2584 - accuracy: 0.9097 - val_loss: 0.3477 - val_accuracy: 0.8846\n",
      "Epoch 57/100\n",
      "93/93 [==============================] - 0s 4ms/step - loss: 0.2608 - accuracy: 0.9054 - val_loss: 0.3618 - val_accuracy: 0.8846\n",
      "Epoch 58/100\n",
      "93/93 [==============================] - 0s 4ms/step - loss: 0.2558 - accuracy: 0.9032 - val_loss: 0.3388 - val_accuracy: 0.8654\n",
      "Epoch 59/100\n",
      "93/93 [==============================] - 0s 4ms/step - loss: 0.2605 - accuracy: 0.9032 - val_loss: 0.3289 - val_accuracy: 0.8846\n",
      "Epoch 60/100\n",
      "93/93 [==============================] - 0s 5ms/step - loss: 0.2563 - accuracy: 0.8989 - val_loss: 0.3918 - val_accuracy: 0.8654\n",
      "Epoch 61/100\n",
      "93/93 [==============================] - 0s 4ms/step - loss: 0.2514 - accuracy: 0.9054 - val_loss: 0.3546 - val_accuracy: 0.8846\n",
      "Epoch 62/100\n",
      "93/93 [==============================] - 0s 4ms/step - loss: 0.2537 - accuracy: 0.9054 - val_loss: 0.3800 - val_accuracy: 0.8846\n",
      "Epoch 63/100\n",
      "93/93 [==============================] - 0s 4ms/step - loss: 0.2604 - accuracy: 0.8946 - val_loss: 0.3458 - val_accuracy: 0.8846\n",
      "Epoch 64/100\n",
      "93/93 [==============================] - 0s 4ms/step - loss: 0.2549 - accuracy: 0.9054 - val_loss: 0.3537 - val_accuracy: 0.8846\n",
      "Epoch 65/100\n",
      "93/93 [==============================] - 1s 6ms/step - loss: 0.2523 - accuracy: 0.9032 - val_loss: 0.3857 - val_accuracy: 0.8654\n",
      "Epoch 66/100\n",
      "93/93 [==============================] - 0s 5ms/step - loss: 0.2569 - accuracy: 0.9054 - val_loss: 0.3517 - val_accuracy: 0.8846\n",
      "Epoch 67/100\n",
      "93/93 [==============================] - 0s 4ms/step - loss: 0.2595 - accuracy: 0.8968 - val_loss: 0.3539 - val_accuracy: 0.9038\n",
      "Epoch 68/100\n",
      "93/93 [==============================] - 0s 4ms/step - loss: 0.2536 - accuracy: 0.9032 - val_loss: 0.4052 - val_accuracy: 0.8654\n",
      "Epoch 69/100\n",
      "93/93 [==============================] - 0s 5ms/step - loss: 0.2522 - accuracy: 0.9054 - val_loss: 0.3680 - val_accuracy: 0.8846\n",
      "Epoch 70/100\n",
      "93/93 [==============================] - 0s 4ms/step - loss: 0.2595 - accuracy: 0.9032 - val_loss: 0.3700 - val_accuracy: 0.8846\n",
      "Epoch 71/100\n",
      "93/93 [==============================] - 0s 4ms/step - loss: 0.2527 - accuracy: 0.9054 - val_loss: 0.3919 - val_accuracy: 0.8654\n",
      "Epoch 72/100\n",
      "93/93 [==============================] - 0s 4ms/step - loss: 0.2576 - accuracy: 0.9075 - val_loss: 0.3406 - val_accuracy: 0.8846\n",
      "Epoch 73/100\n",
      "93/93 [==============================] - 0s 4ms/step - loss: 0.2566 - accuracy: 0.9032 - val_loss: 0.3663 - val_accuracy: 0.8654\n",
      "Epoch 74/100\n",
      "93/93 [==============================] - 0s 4ms/step - loss: 0.2575 - accuracy: 0.9032 - val_loss: 0.3385 - val_accuracy: 0.8846\n",
      "Epoch 75/100\n",
      "93/93 [==============================] - 0s 4ms/step - loss: 0.2560 - accuracy: 0.8968 - val_loss: 0.3756 - val_accuracy: 0.8846\n",
      "Epoch 76/100\n",
      "93/93 [==============================] - 0s 4ms/step - loss: 0.2534 - accuracy: 0.9075 - val_loss: 0.3736 - val_accuracy: 0.8846\n",
      "Epoch 77/100\n",
      "93/93 [==============================] - 0s 4ms/step - loss: 0.2591 - accuracy: 0.9011 - val_loss: 0.3601 - val_accuracy: 0.8846\n",
      "Epoch 78/100\n",
      "93/93 [==============================] - 0s 4ms/step - loss: 0.2531 - accuracy: 0.9032 - val_loss: 0.3978 - val_accuracy: 0.8654\n",
      "Epoch 79/100\n",
      "93/93 [==============================] - 0s 4ms/step - loss: 0.2538 - accuracy: 0.9054 - val_loss: 0.3791 - val_accuracy: 0.8654\n",
      "Epoch 80/100\n",
      "93/93 [==============================] - 0s 4ms/step - loss: 0.2572 - accuracy: 0.9011 - val_loss: 0.3844 - val_accuracy: 0.8846\n",
      "Epoch 81/100\n",
      "93/93 [==============================] - 0s 4ms/step - loss: 0.2541 - accuracy: 0.9032 - val_loss: 0.3750 - val_accuracy: 0.8846\n",
      "Epoch 82/100\n",
      "93/93 [==============================] - 0s 4ms/step - loss: 0.2546 - accuracy: 0.8989 - val_loss: 0.3487 - val_accuracy: 0.8846\n",
      "Epoch 83/100\n",
      "93/93 [==============================] - 0s 4ms/step - loss: 0.2565 - accuracy: 0.9032 - val_loss: 0.3925 - val_accuracy: 0.8846\n",
      "Epoch 84/100\n",
      "93/93 [==============================] - 0s 4ms/step - loss: 0.2510 - accuracy: 0.9075 - val_loss: 0.3522 - val_accuracy: 0.8846\n",
      "Epoch 85/100\n",
      "93/93 [==============================] - 0s 4ms/step - loss: 0.2511 - accuracy: 0.9097 - val_loss: 0.3921 - val_accuracy: 0.8846\n",
      "Epoch 86/100\n",
      "93/93 [==============================] - 0s 5ms/step - loss: 0.2536 - accuracy: 0.9054 - val_loss: 0.3876 - val_accuracy: 0.8846\n",
      "Epoch 87/100\n",
      "93/93 [==============================] - 0s 4ms/step - loss: 0.2569 - accuracy: 0.9011 - val_loss: 0.3659 - val_accuracy: 0.9038\n",
      "Epoch 88/100\n",
      "93/93 [==============================] - 0s 4ms/step - loss: 0.2576 - accuracy: 0.9054 - val_loss: 0.3485 - val_accuracy: 0.8846\n",
      "Epoch 89/100\n",
      "93/93 [==============================] - 0s 4ms/step - loss: 0.2504 - accuracy: 0.9032 - val_loss: 0.3624 - val_accuracy: 0.9038\n",
      "Epoch 90/100\n",
      "93/93 [==============================] - 0s 4ms/step - loss: 0.2485 - accuracy: 0.9075 - val_loss: 0.3626 - val_accuracy: 0.8846\n",
      "Epoch 91/100\n",
      "93/93 [==============================] - 0s 4ms/step - loss: 0.2509 - accuracy: 0.9075 - val_loss: 0.3743 - val_accuracy: 0.8654\n",
      "Epoch 92/100\n",
      "93/93 [==============================] - 0s 4ms/step - loss: 0.2546 - accuracy: 0.8946 - val_loss: 0.3661 - val_accuracy: 0.8846\n",
      "Epoch 93/100\n",
      "93/93 [==============================] - 0s 4ms/step - loss: 0.2505 - accuracy: 0.9054 - val_loss: 0.3525 - val_accuracy: 0.8846\n",
      "Epoch 94/100\n",
      "93/93 [==============================] - 0s 4ms/step - loss: 0.2553 - accuracy: 0.9011 - val_loss: 0.3472 - val_accuracy: 0.8846\n",
      "Epoch 95/100\n",
      "93/93 [==============================] - 0s 4ms/step - loss: 0.2499 - accuracy: 0.9054 - val_loss: 0.3692 - val_accuracy: 0.8846\n",
      "Epoch 96/100\n",
      "93/93 [==============================] - 0s 4ms/step - loss: 0.2476 - accuracy: 0.9075 - val_loss: 0.3666 - val_accuracy: 0.8846\n",
      "Epoch 97/100\n",
      "93/93 [==============================] - 0s 5ms/step - loss: 0.2508 - accuracy: 0.9032 - val_loss: 0.3663 - val_accuracy: 0.8846\n",
      "Epoch 98/100\n",
      "93/93 [==============================] - 0s 4ms/step - loss: 0.2455 - accuracy: 0.9032 - val_loss: 0.3757 - val_accuracy: 0.8846\n",
      "Epoch 99/100\n",
      "93/93 [==============================] - 0s 4ms/step - loss: 0.2471 - accuracy: 0.9075 - val_loss: 0.3765 - val_accuracy: 0.8846\n",
      "Epoch 100/100\n",
      "93/93 [==============================] - 0s 4ms/step - loss: 0.2514 - accuracy: 0.9075 - val_loss: 0.3635 - val_accuracy: 0.9038\n"
     ]
    },
    {
     "data": {
      "text/plain": [
       "<keras.src.callbacks.History at 0x26eece35a90>"
      ]
     },
     "execution_count": 41,
     "metadata": {},
     "output_type": "execute_result"
    }
   ],
   "source": [
    "# train and fit model\n",
    "model.fit(x_train, y_train, epochs = 100, batch_size = 5, validation_data = (x_test, y_test))"
   ]
  },
  {
   "cell_type": "code",
   "execution_count": 45,
   "id": "6fd5c7f5-b92a-4e85-b29d-e25e92a45612",
   "metadata": {},
   "outputs": [
    {
     "name": "stdout",
     "output_type": "stream",
     "text": [
      "15/15 [==============================] - 0s 4ms/step - loss: 0.2423 - accuracy: 0.9075\n"
     ]
    },
    {
     "data": {
      "text/plain": [
       "[0.24228884279727936, 0.9075269103050232]"
      ]
     },
     "execution_count": 45,
     "metadata": {},
     "output_type": "execute_result"
    }
   ],
   "source": [
    "# evaluate on training\n",
    "model.evaluate(x_train, y_train)"
   ]
  },
  {
   "cell_type": "code",
   "execution_count": 46,
   "id": "7cfb0222-3e67-4ec7-b1b0-01b554e2eb1c",
   "metadata": {},
   "outputs": [
    {
     "name": "stdout",
     "output_type": "stream",
     "text": [
      "2/2 [==============================] - 0s 0s/step - loss: 0.3635 - accuracy: 0.9038\n"
     ]
    },
    {
     "data": {
      "text/plain": [
       "[0.3635345995426178, 0.9038461446762085]"
      ]
     },
     "execution_count": 46,
     "metadata": {},
     "output_type": "execute_result"
    }
   ],
   "source": [
    "# evaluate on testing data\n",
    "model.evaluate(x_test, y_test)"
   ]
  },
  {
   "cell_type": "code",
   "execution_count": 48,
   "id": "dddaf7d9-26a1-481d-b239-c529c52dad51",
   "metadata": {},
   "outputs": [
    {
     "name": "stdout",
     "output_type": "stream",
     "text": [
      "2/2 [==============================] - 0s 0s/step\n"
     ]
    },
    {
     "data": {
      "text/plain": [
       "array([[0.01488278],\n",
       "       [0.98533463],\n",
       "       [0.00921056],\n",
       "       [0.9964142 ],\n",
       "       [0.6379969 ],\n",
       "       [0.19946267],\n",
       "       [0.05304798],\n",
       "       [0.9880469 ],\n",
       "       [0.07692317],\n",
       "       [0.05657236],\n",
       "       [0.0129848 ],\n",
       "       [0.01436422],\n",
       "       [0.01362884],\n",
       "       [0.0650365 ],\n",
       "       [0.99210835],\n",
       "       [0.06718186],\n",
       "       [0.991873  ],\n",
       "       [0.09892967],\n",
       "       [0.49087965],\n",
       "       [0.0096535 ],\n",
       "       [0.05750876],\n",
       "       [0.50526416],\n",
       "       [0.01676464],\n",
       "       [0.00756323],\n",
       "       [0.02942032],\n",
       "       [0.12577   ],\n",
       "       [0.965034  ],\n",
       "       [0.9906223 ],\n",
       "       [0.02183738],\n",
       "       [0.9853407 ],\n",
       "       [0.64142424],\n",
       "       [0.21266912],\n",
       "       [0.42031926],\n",
       "       [0.02387681],\n",
       "       [0.98795307],\n",
       "       [0.02627656],\n",
       "       [0.78160816],\n",
       "       [0.00922305],\n",
       "       [0.9941123 ],\n",
       "       [0.9584625 ],\n",
       "       [0.98533463],\n",
       "       [0.00629087],\n",
       "       [0.03333048],\n",
       "       [0.21821809],\n",
       "       [0.01541556],\n",
       "       [0.03120015],\n",
       "       [0.59380966],\n",
       "       [0.9896317 ],\n",
       "       [0.00986243],\n",
       "       [0.30850714],\n",
       "       [0.9657903 ],\n",
       "       [0.0301942 ]], dtype=float32)"
      ]
     },
     "execution_count": 48,
     "metadata": {},
     "output_type": "execute_result"
    }
   ],
   "source": [
    "# lets predict test data\n",
    "y_pred = model.predict(x_test)\n",
    "y_pred"
   ]
  },
  {
   "cell_type": "code",
   "execution_count": 49,
   "id": "268e91a6-f369-40a4-9133-382e2add4a67",
   "metadata": {},
   "outputs": [
    {
     "data": {
      "text/plain": [
       "[0,\n",
       " 1,\n",
       " 0,\n",
       " 1,\n",
       " 1,\n",
       " 0,\n",
       " 0,\n",
       " 1,\n",
       " 0,\n",
       " 0,\n",
       " 0,\n",
       " 0,\n",
       " 0,\n",
       " 0,\n",
       " 1,\n",
       " 0,\n",
       " 1,\n",
       " 0,\n",
       " 0,\n",
       " 0,\n",
       " 0,\n",
       " 1,\n",
       " 0,\n",
       " 0,\n",
       " 0,\n",
       " 0,\n",
       " 1,\n",
       " 1,\n",
       " 0,\n",
       " 1,\n",
       " 1,\n",
       " 0,\n",
       " 0,\n",
       " 0,\n",
       " 1,\n",
       " 0,\n",
       " 1,\n",
       " 0,\n",
       " 1,\n",
       " 1,\n",
       " 1,\n",
       " 0,\n",
       " 0,\n",
       " 0,\n",
       " 0,\n",
       " 0,\n",
       " 1,\n",
       " 1,\n",
       " 0,\n",
       " 0,\n",
       " 1,\n",
       " 0]"
      ]
     },
     "execution_count": 49,
     "metadata": {},
     "output_type": "execute_result"
    }
   ],
   "source": [
    "# declare a list\n",
    "ypred = []\n",
    "for i in y_pred:\n",
    "    if (i < 0.5):\n",
    "        ypred.append(0)\n",
    "    else:\n",
    "        ypred.append(1)\n",
    "ypred"
   ]
  },
  {
   "cell_type": "code",
   "execution_count": 52,
   "id": "1799b9e6-1073-4c5e-a7e5-0b5f204ce2b7",
   "metadata": {},
   "outputs": [
    {
     "data": {
      "text/plain": [
       "0.9038461538461539"
      ]
     },
     "execution_count": 52,
     "metadata": {},
     "output_type": "execute_result"
    }
   ],
   "source": [
    "# accuracy for unseen data\n",
    "accuracy_score(y_test, ypred)"
   ]
  },
  {
   "cell_type": "code",
   "execution_count": 44,
   "id": "134d5a47-0239-4a11-b630-1b8b4c2e891a",
   "metadata": {},
   "outputs": [],
   "source": [
    "# save the model using pickle\n",
    "with open('annmodel.pkl', 'wb') as file:\n",
    "    pickle.dump(model, file)"
   ]
  },
  {
   "cell_type": "code",
   "execution_count": 85,
   "id": "4df432eb-bc96-48de-a032-ed13976fa029",
   "metadata": {},
   "outputs": [
    {
     "name": "stdout",
     "output_type": "stream",
     "text": [
      "[[ 243.88840951]\n",
      " [1824.18422168]\n",
      " [  42.7104697 ]\n",
      " [ 241.55664423]\n",
      " [1912.52433196]\n",
      " [  43.7324174 ]\n",
      " [ 241.24620103]\n",
      " [1902.01929253]\n",
      " [  43.61214616]]\n",
      "[[-0.5805549 ]\n",
      " [ 1.33947247]\n",
      " [-0.82498202]\n",
      " [-0.58338795]\n",
      " [ 1.44680392]\n",
      " [-0.82374038]\n",
      " [-0.58376513]\n",
      " [ 1.43404051]\n",
      " [-0.8238865 ]]\n",
      "1/1 [==============================] - 0s 157ms/step\n"
     ]
    },
    {
     "data": {
      "text/plain": [
       "array([[0.97840565]], dtype=float32)"
      ]
     },
     "execution_count": 85,
     "metadata": {},
     "output_type": "execute_result"
    }
   ],
   "source": [
    "# now load model and test it on new images\n",
    "with open('annmodel.pkl', 'rb') as file:\n",
    "    model = pickle.load(file)\n",
    "\n",
    "# now read image\n",
    "image = io.imread(r\"C:\\Users\\Arfan Shah\\Downloads\\gwbz3fsgp8-2\\Normal Person ECG Images (284x12=3408)\\Normal(258).jpg\")\n",
    "\n",
    "# convert into array\n",
    "image_array = np.asarray(image)\n",
    "\n",
    "# split into three channels\n",
    "red = image_array[:, :, 0]\n",
    "green = image_array[:, :, 1]\n",
    "blue = image_array[:, :, 2]\n",
    "\n",
    "# extract faetures for red channel\n",
    "Red_Mean = np.mean(red)\n",
    "Red_Var = np.var(red)\n",
    "Red_Std = math.sqrt(Red_Var)\n",
    "\n",
    "# extract green channel features\n",
    "Green_Mean = np.mean(green)\n",
    "Green_Var = np.var(green)\n",
    "Green_Std = math.sqrt(Green_Var)\n",
    "\n",
    "# extract blue channel features\n",
    "Blue_Mean = np.mean(blue)\n",
    "Blue_Var = np.var(blue)\n",
    "Blue_Std = math.sqrt(Blue_Var)\n",
    "\n",
    "# make a list\n",
    "list = [Red_Mean, Red_Var, Red_Std, Green_Mean, Green_Var, Green_Std, Blue_Mean, Blue_Var, Blue_Std]\n",
    "\n",
    "# convert into array\n",
    "array = np.asarray(list)\n",
    "\n",
    "# reshape array\n",
    "list = array.reshape(-1, 1)\n",
    "print(list)\n",
    "\n",
    "# normalise this list\n",
    "scaler = StandardScaler()\n",
    "lis = scaler.fit_transform(list)\n",
    "\n",
    "print(lis)\n",
    "\n",
    "# reshape array again\n",
    "new_list = lis.reshape(1, -1)\n",
    "\n",
    "prediction = model.predict(new_list)\n",
    "\n",
    "prediction"
   ]
  },
  {
   "cell_type": "code",
   "execution_count": 83,
   "id": "bd576c19-6818-4a75-a160-49cdb60997da",
   "metadata": {},
   "outputs": [
    {
     "name": "stdout",
     "output_type": "stream",
     "text": [
      "Ahh! Your ECG is ABNORMAL! \n"
     ]
    }
   ],
   "source": [
    "# find disease\n",
    "if (prediction < 0.5):\n",
    "    print(\"Wow! Your ECG is NORMAL!\")\n",
    "else:\n",
    "    print(\"Ahh! Your ECG is ABNORMAL! \")"
   ]
  },
  {
   "cell_type": "code",
   "execution_count": null,
   "id": "e69b22e8-40ae-497d-9f20-00cd316e4046",
   "metadata": {},
   "outputs": [],
   "source": []
  }
 ],
 "metadata": {
  "kernelspec": {
   "display_name": "Python 3 (ipykernel)",
   "language": "python",
   "name": "python3"
  },
  "language_info": {
   "codemirror_mode": {
    "name": "ipython",
    "version": 3
   },
   "file_extension": ".py",
   "mimetype": "text/x-python",
   "name": "python",
   "nbconvert_exporter": "python",
   "pygments_lexer": "ipython3",
   "version": "3.11.7"
  }
 },
 "nbformat": 4,
 "nbformat_minor": 5
}
