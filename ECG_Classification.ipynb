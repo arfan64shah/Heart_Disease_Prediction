{
 "cells": [
  {
   "cell_type": "code",
   "execution_count": 11,
   "id": "9b9007c2-7a56-4a79-81e6-44fd57c2db7a",
   "metadata": {},
   "outputs": [],
   "source": [
    "# import required libraries\n",
    "import pandas as pd\n",
    "import numpy as np\n",
    "import xlsxwriter\n",
    "import glob\n",
    "from skimage import io\n",
    "import math\n",
    "import openpyxl"
   ]
  },
  {
   "cell_type": "markdown",
   "id": "e3fe330c-2c75-4c81-8e1c-3b5afaa7a2fa",
   "metadata": {},
   "source": [
    "## Normal Dataset"
   ]
  },
  {
   "cell_type": "code",
   "execution_count": 4,
   "id": "1b69b6ff-2b1b-49f7-860e-c6b28e79620a",
   "metadata": {},
   "outputs": [],
   "source": [
    "# create a workbook and worksheet\n",
    "workbook = xlsxwriter.Workbook('normal.xlsx')\n",
    "worksheet = workbook.add_worksheet()\n",
    "\n",
    "# write headers\n",
    "worksheet.write('A1', 'Red_Mean')\n",
    "worksheet.write('B1', 'Red_Median')\n",
    "worksheet.write('C1', 'Red_Var')\n",
    "worksheet.write('D1', 'Red_Std')\n",
    "worksheet.write('E1', 'Green_Mean')\n",
    "worksheet.write('F1', 'Green_Median')\n",
    "worksheet.write('G1', 'Green_Var')\n",
    "worksheet.write('H1', 'Green_Std')\n",
    "worksheet.write('I1', 'Blue_Mean')\n",
    "worksheet.write('J1', 'Blue_Median')\n",
    "worksheet.write('K1', 'Blue_Var')\n",
    "worksheet.write('L1', 'Blue_Std')\n",
    "\n",
    "workbook.close()"
   ]
  },
  {
   "cell_type": "code",
   "execution_count": 7,
   "id": "73a39a19-9612-4b9d-966f-2d56b7bd281c",
   "metadata": {},
   "outputs": [
    {
     "data": {
      "text/plain": [
       "284"
      ]
     },
     "execution_count": 7,
     "metadata": {},
     "output_type": "execute_result"
    }
   ],
   "source": [
    "# Declare a list\n",
    "normal_list = []\n",
    "\n",
    "# use for loop to read all the normal images\n",
    "for i in glob.glob(r'C:\\Users\\Arfan Shah\\Downloads\\gwbz3fsgp8-2\\Normal Person ECG Images (284x12=3408)\\*.*'):\n",
    "    image = io.imread(i)\n",
    "\n",
    "    # convert image into array\n",
    "    image_array = np.asarray(image)\n",
    "\n",
    "    # append array into list\n",
    "    normal_list.append(image_array)\n",
    "\n",
    "len(normal_list)"
   ]
  },
  {
   "cell_type": "code",
   "execution_count": 12,
   "id": "8013ae44-97a6-4706-a633-d42e27e13468",
   "metadata": {},
   "outputs": [],
   "source": [
    "# now iterate through the list and extract features from each image array\n",
    "for normal_image in normal_list:\n",
    "\n",
    "    # read separate image\n",
    "    normal_image = normal_image\n",
    "\n",
    "    # split array into three channels\n",
    "    red = normal_image[ : , : , 0]\n",
    "    green = normal_image[ : , : , 1]\n",
    "    blue = normal_image[ :, : , 2]\n",
    "\n",
    "    # extract features for red channel\n",
    "    Red_Mean = np.mean(red)\n",
    "    Red_Median = np.median(red)\n",
    "    Red_Var = np.var(red)\n",
    "    Red_Std = math.sqrt(Red_Var)\n",
    "\n",
    "    # extract features from green channel\n",
    "    Green_Mean = np.mean(green)\n",
    "    Green_Median = np.median(green)\n",
    "    Green_Var = np.var(green)\n",
    "    Green_Std = math.sqrt(Green_Var)\n",
    "\n",
    "    # extract features for blue channel\n",
    "    Blue_Mean = np.mean(blue)\n",
    "    Blue_Median = np.median(blue)\n",
    "    Blue_Var = np.var(blue)\n",
    "    Blue_Std = math.sqrt(Blue_Var)\n",
    "\n",
    "    # now make a list for all these extracted features\n",
    "    list = [Red_Mean, Red_Median, Red_Var, Red_Std, Green_Mean, Green_Median, Green_Var, Green_Std, Blue_Mean, Blue_Median, Blue_Var, Blue_Std]\n",
    "\n",
    "    # # now make an array\n",
    "    # list_array = np.asarray(list)\n",
    "    # load newly created excel file\n",
    "    outworkbook = openpyxl.load_workbook('normal.xlsx')\n",
    "\n",
    "    # activate newly created worksheet\n",
    "    outworksheet = outworkbook.active\n",
    "\n",
    "    # append data into newly created excel sheet\n",
    "    outworksheet.append(list)\n",
    "\n",
    "    # save excel file\n",
    "    outworkbook.save(filename = 'normal.xlsx')"
   ]
  },
  {
   "cell_type": "markdown",
   "id": "9b3aa01b-e261-455d-b02f-17557ab4fe86",
   "metadata": {},
   "source": [
    "## Myocardial Infarction"
   ]
  },
  {
   "cell_type": "code",
   "execution_count": null,
   "id": "264c12fe-2408-43c6-8c21-32f2f674c7be",
   "metadata": {},
   "outputs": [],
   "source": [
    "# create an excel file for features of MI\n",
    "workbook1 = xlsxwriter.Workbook('mi.xlsx')\n",
    "worksheet1 = workbook.addworsheet()\n",
    "\n",
    "# write headers into sheet\n",
    "worksheet1.write('A1', '')\n",
    "worksheet1.write('B1', '')\n",
    "worksheet1.write('C1', '')\n",
    "worksheet1.write('D1', '')\n",
    "worksheet1.write('E1', '')\n",
    "worksheet1.write('F1', '')\n",
    "worksheet1.write('G1', '')\n",
    "worksheet1.write('H1', '')\n",
    "worksheet1.write('I', '')\n",
    "worksheet1.write('', '')\n",
    "worksheet1.write('', '')\n",
    "worksheet1.write('', '')"
   ]
  }
 ],
 "metadata": {
  "kernelspec": {
   "display_name": "Python 3 (ipykernel)",
   "language": "python",
   "name": "python3"
  },
  "language_info": {
   "codemirror_mode": {
    "name": "ipython",
    "version": 3
   },
   "file_extension": ".py",
   "mimetype": "text/x-python",
   "name": "python",
   "nbconvert_exporter": "python",
   "pygments_lexer": "ipython3",
   "version": "3.11.7"
  }
 },
 "nbformat": 4,
 "nbformat_minor": 5
}
